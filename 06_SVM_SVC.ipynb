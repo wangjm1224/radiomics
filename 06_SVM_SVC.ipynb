{
 "cells": [
  {
   "cell_type": "code",
   "execution_count": null,
   "metadata": {},
   "outputs": [],
   "source": [
    "from sklearn.svm import SVC\n",
    "import pandas as pd\n",
    "import numpy as np\n",
    "from sklearn.model_selection import train_test_split\n",
    "from sklearn.metrics import classification_report, plot_roc_curve\n",
    "\n",
    "from imblearn.under_sampling import NearMiss\n",
    "from imblearn.over_sampling import SMOTE\n",
    "from imblearn.combine import SMOTEENN\n",
    "from collections import Counter\n",
    "\n",
    "from sklearn.metrics import roc_auc_score\n",
    "from sklearn.metrics import RocCurveDisplay\n",
    "\n",
    "\n",
    "import matplotlib.pyplot as plt\n"
   ]
  },
  {
   "cell_type": "code",
   "execution_count": null,
   "metadata": {
    "scrolled": false
   },
   "outputs": [],
   "source": [
    "dataFile1 = 'F:/Radiomics/MONKEY_trainMI.csv'\n",
    "data = pd.read_csv(dataFile1)\n",
    "X_train = data.iloc[: ,2:]\n",
    "y_train = data['DIS']\n",
    "\n",
    "\n",
    "\n",
    "dataFile2 = 'F:/Radiomics/HUMAN_testMI.csv'\n",
    "data2 = pd.read_csv(dataFile2)\n",
    "X_test = data2.iloc[: ,2:]\n",
    "y_test = data2['DIS']\n"
   ]
  },
  {
   "cell_type": "code",
   "execution_count": null,
   "metadata": {},
   "outputs": [],
   "source": [
    " \n",
    "smo = SMOTE(random_state = 21)\n",
    "X_train, y_train = smo.fit_resample(X_train, y_train)\n",
    "Counter(y_train)"
   ]
  },
  {
   "cell_type": "code",
   "execution_count": null,
   "metadata": {
    "scrolled": true
   },
   "outputs": [],
   "source": [
    "svc = SVC(kernel='rbf',probability=True)\n",
    "svc.fit(X_train,y_train)\n",
    "\n",
    "print(svc.score(X_train,y_train))\n",
    "print(svc.score(X_test,y_test))"
   ]
  },
  {
   "cell_type": "code",
   "execution_count": null,
   "metadata": {},
   "outputs": [],
   "source": [
    "print(classification_report(y_test, svc.predict(X_test),digits=5,))"
   ]
  },
  {
   "cell_type": "code",
   "execution_count": null,
   "metadata": {},
   "outputs": [],
   "source": [
    "from sklearn.metrics import confusion_matrix\n",
    "print(confusion_matrix(y_test, svc.predict(X_test)))"
   ]
  },
  {
   "cell_type": "code",
   "execution_count": null,
   "metadata": {},
   "outputs": [],
   "source": [
    "#ROC\n",
    "\n",
    "svc_train = RocCurveDisplay.from_estimator(svc, X_train, y_train)\n",
    "svc_2 = RocCurveDisplay.from_estimator(svc, X_test, y_test, ax=svc_train.ax_)\n"
   ]
  },
  {
   "cell_type": "code",
   "execution_count": null,
   "metadata": {},
   "outputs": [],
   "source": [
    "#auc\n",
    "#1\n",
    "a = roc_auc_score(y_train, svc.predict_proba(X_train)[:, 1])\n",
    "b = roc_auc_score(y_test, svc.predict_proba(X_test)[:, 1])\n",
    "#2\n",
    "c = roc_auc_score(y_train, svc.decision_function(X_train))\n",
    "d = roc_auc_score(y_test, svc.decision_function(X_test))\n",
    "\n",
    "#3\n",
    "from sklearn import metrics\n",
    "fpr, tpr, thresholds = metrics.roc_curve(y_test, svc.predict_proba(X_test)[:, 1], pos_label=2)\n",
    "e = metrics.auc(fpr, tpr)\n",
    "\n",
    "print(a)\n",
    "print(b)\n",
    "print(c)\n",
    "print(d)\n",
    "print(e)"
   ]
  },
  {
   "cell_type": "code",
   "execution_count": null,
   "metadata": {
    "scrolled": true
   },
   "outputs": [],
   "source": [
    "#train\n",
    "from sklearn.metrics import roc_auc_score\n",
    "\n",
    "def bootstrap_auc(svc, X_train, y_train, X_test, y_test, nsamples=1000):\n",
    "    auc_values = []\n",
    "    for b in range(nsamples):\n",
    "        idx = np.random.randint(X_train.shape[0], size=X_train.shape[0])\n",
    "        svc.fit(X_train.iloc[idx], y_train.iloc[idx])\n",
    "        pred = svc.predict_proba(X_train)[:, 1]\n",
    "        roc_auc = roc_auc_score(y_train.ravel(), pred.ravel())\n",
    "        auc_values.append(roc_auc)\n",
    "    return np.percentile(auc_values, (2.5, 97.5))\n",
    "\n",
    "bootstrap_auc(svc, X_train, y_train, X_test, y_test, nsamples=1000)"
   ]
  },
  {
   "cell_type": "code",
   "execution_count": null,
   "metadata": {},
   "outputs": [],
   "source": [
    "#test\n",
    "from sklearn.metrics import roc_auc_score\n",
    "\n",
    "def bootstrap_auc(svc, X_train, y_train, X_test, y_test, nsamples=1000):\n",
    "    auc_values = []\n",
    "    for b in range(nsamples):\n",
    "        idx = np.random.randint(X_train.shape[0], size=X_train.shape[0])\n",
    "        svc.fit(X_train.iloc[idx], y_train.iloc[idx])\n",
    "        pred = svc.predict_proba(X_test)[:, 1]\n",
    "        roc_auc = roc_auc_score(y_test.ravel(), pred.ravel())\n",
    "        auc_values.append(roc_auc)\n",
    "    return np.percentile(auc_values, (2.5, 97.5))\n",
    "\n",
    "bootstrap_auc(svc, X_train, y_train, X_test, y_test, nsamples=1000)"
   ]
  },
  {
   "cell_type": "code",
   "execution_count": null,
   "metadata": {},
   "outputs": [],
   "source": []
  }
 ],
 "metadata": {
  "kernelspec": {
   "display_name": "Python 3 (ipykernel)",
   "language": "python",
   "name": "python3"
  },
  "language_info": {
   "codemirror_mode": {
    "name": "ipython",
    "version": 3
   },
   "file_extension": ".py",
   "mimetype": "text/x-python",
   "name": "python",
   "nbconvert_exporter": "python",
   "pygments_lexer": "ipython3",
   "version": "3.7.13"
  }
 },
 "nbformat": 4,
 "nbformat_minor": 4
}
