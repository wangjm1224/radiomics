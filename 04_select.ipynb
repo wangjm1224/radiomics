{
 "cells": [
  {
   "cell_type": "code",
   "execution_count": null,
   "id": "5ea32cb5",
   "metadata": {
    "scrolled": true
   },
   "outputs": [],
   "source": [
    "import pandas as pd\n",
    "import numpy as np"
   ]
  },
  {
   "cell_type": "code",
   "execution_count": 103,
   "id": "10cf31c5",
   "metadata": {},
   "outputs": [
    {
     "data": {
      "text/plain": [
       "(9, 1)"
      ]
     },
     "execution_count": 103,
     "metadata": {},
     "output_type": "execute_result"
    }
   ],
   "source": [
    "#导入 需要挑选的列\n",
    "\n",
    "\n",
    "dataFile = 'F:/Radiomics/features.csv'\n",
    "feature = pd.read_csv(dataFile)\n",
    "\n",
    "feature = np.array(feature)  # np.ndarray()\n",
    "feature_list = feature.tolist()  # list\n",
    "\n",
    "#print(feature_list)\n",
    "\n",
    "feature_list = [ i for item in feature_list for i in item]\n",
    "feature_list\n",
    "feature.shape\n",
    "#feature"
   ]
  },
  {
   "cell_type": "code",
   "execution_count": 104,
   "id": "7fe7c509",
   "metadata": {},
   "outputs": [
    {
     "data": {
      "text/plain": [
       "(575, 292)"
      ]
     },
     "execution_count": 104,
     "metadata": {},
     "output_type": "execute_result"
    }
   ],
   "source": [
    "\n",
    "dataFile = 'F:/Radiomics/SET_A_HUMAN.csv'\n",
    "data = pd.read_csv(dataFile)\n",
    "\n",
    "X = data.iloc[: ,2:]\n",
    "z = data.iloc[: ,0:1]\n",
    "y = data['DIS']\n",
    "\n",
    "X.shape\n",
    "#data"
   ]
  },
  {
   "cell_type": "code",
   "execution_count": 105,
   "id": "f25661f1",
   "metadata": {
    "scrolled": true
   },
   "outputs": [],
   "source": [
    "\n",
    "df_train = pd.DataFrame()  \n",
    "df_train = pd.concat([y,X[feature_list]], axis=1) \n",
    "\n",
    "df_train.to_csv('F:/Radiomics/SET_A_HUMAN2.csv') \n"
   ]
  }
 ],
 "metadata": {
  "kernelspec": {
   "display_name": "Python 3 (ipykernel)",
   "language": "python",
   "name": "python3"
  },
  "language_info": {
   "codemirror_mode": {
    "name": "ipython",
    "version": 3
   },
   "file_extension": ".py",
   "mimetype": "text/x-python",
   "name": "python",
   "nbconvert_exporter": "python",
   "pygments_lexer": "ipython3",
   "version": "3.7.13"
  }
 },
 "nbformat": 4,
 "nbformat_minor": 5
}
