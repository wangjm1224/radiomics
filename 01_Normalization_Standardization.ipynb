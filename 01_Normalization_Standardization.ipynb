{
 "cells": [
  {
   "cell_type": "code",
   "execution_count": null,
   "metadata": {
    "scrolled": true
   },
   "outputs": [],
   "source": [
    "from sklearn.preprocessing import StandardScaler\n",
    "from sklearn.preprocessing import MinMaxScaler\n",
    "from sklearn.model_selection import train_test_split\n",
    "import pandas as pd"
   ]
  },
  {
   "cell_type": "code",
   "execution_count": null,
   "metadata": {
    "scrolled": true
   },
   "outputs": [],
   "source": [
    "dataFile = 'F:/Radiomics/数据集SETc-原始数据.csv'\n",
    "data = pd.read_csv(dataFile)\n",
    "\n",
    "data.head()\n",
    "#data.shape\n"
   ]
  },
  {
   "cell_type": "code",
   "execution_count": null,
   "metadata": {},
   "outputs": [],
   "source": [
    "X = data.iloc[: ,12:]\n",
    "y = data.iloc[: ,0:12]\n",
    "y"
   ]
  },
  {
   "cell_type": "code",
   "execution_count": null,
   "metadata": {
    "scrolled": true
   },
   "outputs": [],
   "source": [
    "X"
   ]
  },
  {
   "cell_type": "markdown",
   "metadata": {},
   "source": [
    "# 数据归一化（Normalization或称Min-Max Scaling）\n"
   ]
  },
  {
   "cell_type": "code",
   "execution_count": null,
   "metadata": {
    "scrolled": true
   },
   "outputs": [],
   "source": [
    "#归一化到0-1\n",
    "scaler_mm = MinMaxScaler()   #实例化\n",
    "scaler_mm = scaler_mm.fit(X)\n",
    "X_mm = scaler_mm.transform(X)  #训练集归一化\n",
    "X_mm = pd.DataFrame(X_mm,columns = X.columns)  #框架\n",
    "X_mm"
   ]
  },
  {
   "cell_type": "code",
   "execution_count": null,
   "metadata": {
    "scrolled": true
   },
   "outputs": [],
   "source": [
    "df = pd.DataFrame()  #用于保存归一化后的数据\n",
    "df = pd.concat([X_mm], axis=1)  #y,\n",
    "\n",
    "df.to_csv('F:/Radiomics/01数据集SETc-Normalization.csv') \n"
   ]
  },
  {
   "cell_type": "markdown",
   "metadata": {},
   "source": [
    "# 数据标准化（Standardization或称Z-score normalization）"
   ]
  },
  {
   "cell_type": "code",
   "execution_count": null,
   "metadata": {
    "scrolled": true
   },
   "outputs": [],
   "source": [
    "scaler_ss = StandardScaler()  #实例化\n",
    "scaler_ss = scaler_ss.fit(X)  #fit数据 \n",
    "X_ss = scaler_ss.transform(X)  #标准化\n",
    "X_ss = pd.DataFrame(X_ss, columns = X.columns)   #框架\n",
    "X_ss"
   ]
  },
  {
   "cell_type": "code",
   "execution_count": null,
   "metadata": {
    "scrolled": true
   },
   "outputs": [],
   "source": [
    "#X_train_ss.to_excel('F:/02Radiomics/05_Code/Data/02X_train_ss.xlsx') \n",
    "\n",
    "df = pd.DataFrame()  #用于保存标准化后的数据\n",
    "df = pd.concat([y,X_ss], axis=1) \n",
    "\n",
    "df.to_csv('F:/Radiomics/ALL-Standardization.csv') \n"
   ]
  },
  {
   "cell_type": "code",
   "execution_count": null,
   "metadata": {
    "scrolled": true
   },
   "outputs": [],
   "source": []
  }
 ],
 "metadata": {
  "kernelspec": {
   "display_name": "Python 3 (ipykernel)",
   "language": "python",
   "name": "python3"
  },
  "language_info": {
   "codemirror_mode": {
    "name": "ipython",
    "version": 3
   },
   "file_extension": ".py",
   "mimetype": "text/x-python",
   "name": "python",
   "nbconvert_exporter": "python",
   "pygments_lexer": "ipython3",
   "version": "3.7.13"
  }
 },
 "nbformat": 4,
 "nbformat_minor": 4
}
