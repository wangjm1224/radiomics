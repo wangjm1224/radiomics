{
 "cells": [
  {
   "cell_type": "markdown",
   "metadata": {},
   "source": [
    "##  T检验 筛选特征"
   ]
  },
  {
   "cell_type": "code",
   "execution_count": null,
   "metadata": {},
   "outputs": [],
   "source": [
    "import numpy as np\n",
    "import pandas as pd\n",
    "from scipy.stats import ttest_ind, levene"
   ]
  },
  {
   "cell_type": "code",
   "execution_count": null,
   "metadata": {},
   "outputs": [],
   "source": [
    "dataFile = 'F:/Radiomics/WJMZ_原始数据.csv'\n",
    "data = pd.read_csv(dataFile)\n",
    "data_a = data[data['species'] == 1]        \n",
    "data_b = data[data['species'] == 2]\n",
    "X = data.iloc[: ,12:]\n",
    "y = data['species']\n",
    "z = data.iloc[: ,0:12]\n"
   ]
  },
  {
   "cell_type": "code",
   "execution_count": null,
   "metadata": {},
   "outputs": [],
   "source": [
    "y"
   ]
  },
  {
   "cell_type": "code",
   "execution_count": null,
   "metadata": {},
   "outputs": [],
   "source": [
    "data_b"
   ]
  },
  {
   "cell_type": "code",
   "execution_count": null,
   "metadata": {},
   "outputs": [],
   "source": [
    "X_a = data_a.iloc[: ,12:]\n",
    "y_a = data_a['species']\n",
    "X_b = data_b.iloc[: ,12:]\n",
    "y_b = data_b['species']\n",
    "print(X_a.shape, X_b.shape)\n"
   ]
  },
  {
   "cell_type": "code",
   "execution_count": null,
   "metadata": {},
   "outputs": [],
   "source": [
    "colNamesSel_t = []                #定义个空的数组\n",
    "for colName in X_a.columns[:]: \n",
    "    if levene(X_a[colName], X_b[colName])[1] > 0.05:             #如果levene检验的[1]个结果的值 > 0.05\n",
    "        if ttest_ind(X_a[colName], X_b[colName])[1] > 0.05:      #t检验\n",
    "            colNamesSel_t.append(colName)\n",
    "    else: \n",
    "        if ttest_ind(X_a[colName], X_b[colName],equal_var=False)[1] > 0.05:   #Welch's t-test\n",
    "            colNamesSel_t.append(colName)\n",
    "print(len(colNamesSel_t))\n",
    "print(colNamesSel_t)\n"
   ]
  },
  {
   "cell_type": "code",
   "execution_count": null,
   "metadata": {},
   "outputs": [],
   "source": [
    "df1 = pd.DataFrame(columns=None, index=None, data=colNamesSel_t)  #把colNamesSel_t转换成DataFrame\n",
    "\n",
    "df1.to_csv('F:/Radiomics/SETc单纯t检验的特征集.csv') \n"
   ]
  },
  {
   "cell_type": "code",
   "execution_count": null,
   "metadata": {},
   "outputs": [],
   "source": [
    "df_2 = pd.DataFrame()  \n",
    "\n",
    "df_2 = pd.concat([z,X[colNamesSel_t]], axis=1) \n",
    "\n",
    "df_2.to_csv('F:/Radiomics/SETc单纯t检验的特征量.csv') "
   ]
  }
 ],
 "metadata": {
  "kernelspec": {
   "display_name": "Python 3 (ipykernel)",
   "language": "python",
   "name": "python3"
  },
  "language_info": {
   "codemirror_mode": {
    "name": "ipython",
    "version": 3
   },
   "file_extension": ".py",
   "mimetype": "text/x-python",
   "name": "python",
   "nbconvert_exporter": "python",
   "pygments_lexer": "ipython3",
   "version": "3.7.13"
  }
 },
 "nbformat": 4,
 "nbformat_minor": 4
}
