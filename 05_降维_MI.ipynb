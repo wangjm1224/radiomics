{
 "cells": [
  {
   "cell_type": "code",
   "execution_count": null,
   "metadata": {},
   "outputs": [],
   "source": [
    "from sklearn.feature_selection import mutual_info_classif as MI\n",
    "import pandas as pd"
   ]
  },
  {
   "cell_type": "code",
   "execution_count": null,
   "metadata": {},
   "outputs": [],
   "source": [
    "dataFile = 'F:/Radiomics/MONKEY.csv'\n",
    "data = pd.read_csv(dataFile)\n",
    "X = data.iloc[: ,2:]\n",
    "y = data['DIS']\n",
    "\n",
    "X.shape\n"
   ]
  },
  {
   "cell_type": "code",
   "execution_count": null,
   "metadata": {
    "scrolled": true
   },
   "outputs": [],
   "source": [
    "MI_result = MI(X, y)\n",
    "MI_result\n",
    "\n",
    "MI_result > 0.1\n",
    "\n",
    "X_MI = X[X.columns[MI_result > 0.1]]\n",
    "X_MI"
   ]
  },
  {
   "cell_type": "code",
   "execution_count": null,
   "metadata": {},
   "outputs": [],
   "source": [
    "df_train = pd.DataFrame()  #用于保存训练组数据\n",
    "df_train = pd.concat([y,X[X.columns[MI_result > 0.1]]], axis=1) \n",
    "df_train.to_csv('F:/Radiomics/MONKEY_trainMI.csv')"
   ]
  },
  {
   "cell_type": "code",
   "execution_count": null,
   "metadata": {},
   "outputs": [],
   "source": [
    "dataFile = 'F:/Radiomics/HUMAN_testMI.csv'\n",
    "data = pd.read_csv(dataFile)\n",
    "X_test = data.iloc[: ,2:]\n",
    "y_test = data['DIS']\n",
    "\n",
    "\n",
    "df_test = pd.DataFrame()  #用于保存训练组数据\n",
    "df_test = pd.concat([y_test,X_test[X.columns[MI_result > 0.1]]], axis=1) \n",
    "df_test.to_csv('F:/Radiomics/HUMAN_testMI.csv') "
   ]
  },
  {
   "cell_type": "code",
   "execution_count": null,
   "metadata": {},
   "outputs": [],
   "source": []
  }
 ],
 "metadata": {
  "kernelspec": {
   "display_name": "Python 3 (ipykernel)",
   "language": "python",
   "name": "python3"
  },
  "language_info": {
   "codemirror_mode": {
    "name": "ipython",
    "version": 3
   },
   "file_extension": ".py",
   "mimetype": "text/x-python",
   "name": "python",
   "nbconvert_exporter": "python",
   "pygments_lexer": "ipython3",
   "version": "3.7.13"
  }
 },
 "nbformat": 4,
 "nbformat_minor": 4
}
