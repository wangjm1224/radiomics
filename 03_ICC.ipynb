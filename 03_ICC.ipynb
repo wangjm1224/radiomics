{
 "cells": [
  {
   "cell_type": "code",
   "execution_count": null,
   "metadata": {
    "scrolled": true
   },
   "outputs": [],
   "source": [
    "import pingouin as pg\n",
    "import pandas as pd\n",
    "import numpy as np\n",
    "import os"
   ]
  },
  {
   "cell_type": "code",
   "execution_count": null,
   "metadata": {
    "scrolled": true
   },
   "outputs": [],
   "source": [
    "\n",
    "\n",
    "\n",
    "data1 = 'F:/Radiomics/HUAMN1.csv'\n",
    "data2 = 'F:/Radiomics/HUMAN2.csv'\n",
    "\n",
    "data1 = pd.read_csv(data1)\n",
    "data2 = pd.read_csv(data2)\n",
    "\n",
    "data1.insert(0, \"reader\" ,np.ones(data1.shape[0]))\n",
    "data2.insert(0, \"reader\" ,np.ones(data2.shape[0])*2)\n",
    "data1.insert(0, \"patient\" ,range(data1.shape[0]))\n",
    "data2.insert(0, \"patient\" ,range(data2.shape[0]))\n",
    "\n",
    "data_inter = pd.concat([data1, data2]) ###组间\n",
    "print(data_inter.columns)\n",
    "data_inter\n",
    "\n",
    "ICC_inter = [] ##组间ICC\n",
    "\n",
    "df1 = pd.DataFrame()  #用于ICC列的保存\n",
    "df2 = pd.DataFrame()  #用于ICC结果的保存\n",
    "\n",
    "for colName in data_inter.columns[3:]:\n",
    "    \n",
    "    ICC = pg.intraclass_corr(data=data_inter, targets=\"patient\", raters=\"reader\", ratings=colName)\n",
    "    df_ICC = pd.DataFrame.from_dict(ICC.loc[0]).T   ##选择ICC1时为loc[0]， 选择ICC2时后面为loc[1]…\n",
    "    df_ICC.columns = ICC.keys()\n",
    "    df2 = pd.concat([df2,df_ICC])\n",
    "    \n",
    "    df1_new =[colName]\n",
    "    df1_new = pd.DataFrame.from_dict(df1_new).T\n",
    "    df1 = pd.concat([df1,df1_new])\n",
    "    \n",
    "    print(\"{}\".format(colName) , 'Done')\n",
    "    \n",
    "df_all = pd.concat([df1,df2], axis=1) \n",
    "df_all.to_csv('F:/Radiomics/HUMAN.csv')\n"
   ]
  }
 ],
 "metadata": {
  "kernelspec": {
   "display_name": "Python 3 (ipykernel)",
   "language": "python",
   "name": "python3"
  },
  "language_info": {
   "codemirror_mode": {
    "name": "ipython",
    "version": 3
   },
   "file_extension": ".py",
   "mimetype": "text/x-python",
   "name": "python",
   "nbconvert_exporter": "python",
   "pygments_lexer": "ipython3",
   "version": "3.7.13"
  }
 },
 "nbformat": 4,
 "nbformat_minor": 4
}
